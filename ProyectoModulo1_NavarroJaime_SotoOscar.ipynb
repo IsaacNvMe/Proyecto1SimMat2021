{
 "cells": [
  {
   "cell_type": "markdown",
   "metadata": {},
   "source": [
    "___\n",
    "## 2. Entregable.\n",
    "Los trabajos deben tener los siguientes componentes básicos.\n",
    "\n",
    "### 2.1 Título del trabajo.\n",
    "> Debe describir el trabajo.\n",
    "\n",
    "### 2.2 Objetivos.\n",
    "> - Se refieren a los propósitos por los cuales se hace el trabajo.\n",
    "> - Deben ser concretos, evaluables y verificables.\n",
    "> - Deben ser escritos en infinitivo.\n",
    "> #### 1.1 Objetivo general.\n",
    ">  - Fin último de estudio. Se formula atendiendo el propósito global del trabajo. No presenta detalles.\n",
    ">  - Se orienta a la totalidad del trabajo. Tiene que ver con el título del trabajo.\n",
    "> #### 1.2 Objetivos específicos\n",
    ">  - De forma detallada describen cada una de los componentes del trabajo.\n",
    ">  - En conjunto garantizan la consecución del objetivo general.\n",
    "\n",
    "Referencia:\n",
    "- https://es.slideshare.net/rosbur/metodologia-objetivos-generales-y-especficos\n",
    "\n",
    "### 2.3 Modelo que representa el problema.\n",
    "> - Se debe incluir la función a optimizar y las restricciones (en caso de que existan).\n",
    "> - Deducción del modelo. Explicación detallada de las ecuaciones de acuerdo al problema que se quiera resolver o modelo que se quiera representar.\n",
    "> - ¿Qué situación representa el modelo? ¿Cuáles son las limitaciones fundamentales?\n",
    "> - Significado y valor de los parámetros (constantes que aparezcan en el modelo).\n",
    "\n",
    "### 2.4 Solución del problema de optimización.\n",
    "> - Se debe resolver el problema de optimización.\n",
    "> - ¿Condujo el algoritmo de optimización a una solución factible?\n",
    "\n",
    "### 2.5 Visualización de la solución del problema.\n",
    "> Se deben mostrar gráficas y/o tablas que ilustren de forma adecuada los resultados. No olviden etiquetar los ejes y si se tienen varias curvas en una sola gráfica también etiquetarlas (ojo: que las curvas se puedan diferenciar con colores y estilos de línea).\n",
    "\n",
    "### 2.6 Conclusiones.\n",
    "> Mucho cuidado, las conclusiones no son cualquier cosa. Se debe concluir respecto a los objetivos planteados de acuerdo a los resultados obtenidos.\n",
    "\n",
    "### 2.7 Referencias.\n",
    "> Citar (en formato APA) la bibliografía utilizada."
   ]
  },
  {
   "cell_type": "markdown",
   "metadata": {},
   "source": [
    "___\n",
    "## 3. Especificaciones adicionales.\n",
    "El proyecto debe estar disponible en `GitHub` con los tres integrantes como colaboradores.\n",
    "\n",
    "### 3.1 Notebook de jupyter. \n",
    "> Los anteriores numerales los deben desarrollar todos en un notebook de jupyter y llamarlo de la siguiente manera `ProyectoModulo1_ApellidoN1_ApellidoN2_ApellidoN3`, donde `ApellidoNi` hace referencia al apellido materno y la inicial del primer nombre del integrante `i`.\n",
    "\n",
    "### 3.2 Presentación.\n",
    "> Recuerden que la nota del proyecto es mitad el trabajo, y mitad la presentación. Deben hacer una presentación en power point para presentar el trabajo en la clase del **lunes 22 de febrero**. La presentación, además de llevar todos los componentes básicos descritos en el entregable, debe llevar una tabla de contenido.\n",
    "> - **NO DEBE TENER CÓDIGO, PARA ESO ES EL INFORME EN EL NOTEBOOK**\n",
    "> - Presentación: 10 minutos.\n",
    "> - Seguir estas recomendaciones: https://es.slideshare.net/MeireComputacion/power-point-pautas-para-una-buen-trabajo"
   ]
  },
  {
   "cell_type": "markdown",
   "metadata": {},
   "source": [
    "# Proyecto Módulo 1: Consumo de energía eléctrica en México\n",
    "\n",
    "### Integrantes\n",
    "> - Navarro Martínez Jaime Isaac\n",
    "> - Soto Bonilla Oscar Eduardo \n",
    "\n",
    "### Objetivo principal: Análisis y predicción de consumo de energía en México\n",
    "\n",
    "El objetivo general de este proyecto es analizar datos estadísticos  sobre el consumo de energía eléctrica durante los últimos años en México y con la ayuda de un modelo matemático se realiza un curva de tendencia que prediga el posible consumo de energía eléctrica en los próximos años.\n",
    "\n",
    "### Objetivo secundarios\n",
    "+ Utilizar curvas de ajuste para extrapolar y predecir información a partir de un conjunto de datos específicos\n",
    "+ Demostrar la efectividad de la programación en Python para resolver problemas matemáticos en el ámbito científico y económico\n",
    "+ Realizar una breve retrospectiva sobre el consumo de energía eléctrica en el país y las tendencias de consumo que se han visto reforzadas en los últimos años.\n"
   ]
  },
  {
   "cell_type": "markdown",
   "metadata": {},
   "source": [
    "## Librerias de Python"
   ]
  },
  {
   "cell_type": "code",
   "execution_count": 2,
   "metadata": {},
   "outputs": [],
   "source": [
    "import sympy as sym\n",
    "import numpy as np\n",
    "import matplotlib.pyplot as plt\n",
    "import scipy.optimize as opt\n",
    "import pandas as pd"
   ]
  },
  {
   "cell_type": "markdown",
   "metadata": {},
   "source": [
    "**Sympy:** Librería para el cálculo simbólico. Proporciona capacidades de álgebra informática como una aplicación independiente. Está escrito completamente en Python con pocas dependencias, por lo que es fácil de utilizar con otras librerías.\n",
    "\n",
    "**Numpy:** Librería con soporte para arreglos multidimensionales y matrices de gran tamaño, junto con una gran colección de funciones matemáticas de alto nivel para operar este tipo de datos.\n",
    "\n",
    "**Matplotlib:** Librería complemento de Numpy. Proporciona una API para generar y trazar gráficos en aplicaciones.\n",
    "\n",
    "**Scipy:** Librería con propósitos de cómputo científico y técnico. Contiene módulos para optimización, integración, interpolación, funciones especiales, álgebra lineal, procesamiento de señales e imágenes, solucionador de ecuaciones diferenciales y otras tareas comunes en ciencia e ingeniería.\n",
    "\n",
    "**Pandas:** Librería para manipulación y análisis de datos. Ofrece estructuras de datos y operaciones para manipular tablas numéricas, series de tiempo y permitir la lectura de archivos."
   ]
  },
  {
   "cell_type": "markdown",
   "metadata": {},
   "source": [
    "## Datos, información y modelo propuesto\n",
    "\n",
    "El consumo de energía total aumenta en todo el mundo de forma paralela al desarrollo de la civilización. El nivel actual de uso de energía per cápita (kW-h per cápita) en los países en desarrollo podría ser suficiente para apoyar la creación de una infraestructura industrial y un nivel de vida que abarque des el que se encuentra actualmente en los países en desarrollo.\n",
    "\n",
    "*The World Bank* cuenta con uno de los bancos de datos más importantes en la actualidad; en el se encuentran registros sobre el consumo de energía eléctrica a nivel mundial.\n",
    "\n",
    "Los datos de consumo de energía eléctrica se encuentran en un grafico de dispersión para el periodo de tiempo de 1971 a 2014 contras el conumo de kWh per cápita anual a nivel mundial. Se propone como modelo encontrar la recta que mejor se ajuste a la serie de puntos de los graficos de dispersión. Las curvas serviran como asistencia visual para los datos, con ella se buscará extrapolar e inferir el consumo esperado en años proximos y la relación de crecimiento del consumo anual."
   ]
  },
  {
   "cell_type": "code",
   "execution_count": null,
   "metadata": {},
   "outputs": [],
   "source": []
  },
  {
   "cell_type": "markdown",
   "metadata": {},
   "source": [
    "## Referencias\n",
    "\n",
    "*Electric power consumption (kwh per capita). (n.d.). Retrieved February 25, 2021, from https://data.worldbank.org/indicator/EG.USE.ELEC.KH.PC?view=chart*"
   ]
  }
 ],
 "metadata": {
  "kernelspec": {
   "display_name": "Python 3",
   "language": "python",
   "name": "python3"
  },
  "language_info": {
   "codemirror_mode": {
    "name": "ipython",
    "version": 3
   },
   "file_extension": ".py",
   "mimetype": "text/x-python",
   "name": "python",
   "nbconvert_exporter": "python",
   "pygments_lexer": "ipython3",
   "version": "3.8.5"
  }
 },
 "nbformat": 4,
 "nbformat_minor": 4
}
